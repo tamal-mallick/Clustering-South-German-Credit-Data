{
  "nbformat": 4,
  "nbformat_minor": 0,
  "metadata": {
    "colab": {
      "name": "Question no 2 .ipynb",
      "provenance": [],
      "collapsed_sections": []
    },
    "kernelspec": {
      "name": "python3",
      "display_name": "Python 3"
    },
    "accelerator": "GPU"
  },
  "cells": [
    {
      "cell_type": "code",
      "metadata": {
        "id": "w1hDk9hDvOH7",
        "colab": {
          "base_uri": "https://localhost:8080/"
        },
        "outputId": "310f3e88-4273-4e92-bdf4-102df4660c95"
      },
      "source": [
        "import pandas as pd\n",
        "import numpy as np\n",
        "\n",
        "from sklearn.cluster import KMeans\n",
        "# Calculate silhouette_score\n",
        "from sklearn.metrics import silhouette_score, accuracy_score\n",
        "from sklearn.preprocessing import OneHotEncoder\n",
        "from sklearn.feature_selection import SelectFromModel\n",
        "from sklearn.feature_selection import SelectKBest\n",
        "from sklearn.feature_selection import chi2\n",
        "\n",
        "from sklearn.ensemble import RandomForestClassifier\n",
        "\n",
        "from sklearn.metrics import confusion_matrix,classification_report\n",
        "from sklearn import metrics\n",
        "from sklearn.model_selection import cross_val_score\n",
        "\n",
        "import warnings\n",
        "warnings.filterwarnings(\"ignore\")\n",
        "\n",
        "from google.colab import drive\n",
        "drive.mount('/gdrive')\n",
        "#Change current working directory to gdrive\n",
        "%cd /gdrive\n"
      ],
      "execution_count": null,
      "outputs": [
        {
          "output_type": "stream",
          "text": [
            "Drive already mounted at /gdrive; to attempt to forcibly remount, call drive.mount(\"/gdrive\", force_remount=True).\n",
            "/gdrive\n"
          ],
          "name": "stdout"
        }
      ]
    },
    {
      "cell_type": "code",
      "metadata": {
        "id": "BMwGQK7KAd7T",
        "colab": {
          "base_uri": "https://localhost:8080/"
        },
        "outputId": "45f31baa-5d61-4473-ae22-6419cd42cdc7"
      },
      "source": [
        "#Read files\n",
        "trainfile = r'/gdrive/My Drive/ASU_MSBA/CIS_508/Assignment 5/2/SouthGermanCredit.csv'\n",
        "trainData = pd.read_csv(trainfile) #creates a dataframe\n",
        "#testfile = r'/gdrive/My Drive/Asim Roy/Datasets/ECG-TEST.csv'\n",
        "#testData = pd.read_csv(testfile)  #creates a dataframe\n",
        "\n",
        "print(trainData.shape)\n",
        "#print(testData.shape)\n"
      ],
      "execution_count": null,
      "outputs": [
        {
          "output_type": "stream",
          "text": [
            "(1000, 21)\n"
          ],
          "name": "stdout"
        }
      ]
    },
    {
      "cell_type": "code",
      "metadata": {
        "id": "SWOTk6C1Ao45",
        "colab": {
          "base_uri": "https://localhost:8080/"
        },
        "outputId": "4e228af6-6dde-4a76-f478-c07f0f803dbd"
      },
      "source": [
        "#Extract training and test data\n",
        "y_train = trainData[\"kredit\"]\n",
        "X_train = trainData.drop([\"kredit\"], axis=1) #extracting training data without the target column\n",
        "#y_test = testData[\"TARGET\"]\n",
        "#X_test = testData.drop([\"TARGET\"], axis=1) #extracting training data without the target column\n",
        "print(X_train.head())\n",
        "#print(X_test.shape)\n"
      ],
      "execution_count": null,
      "outputs": [
        {
          "output_type": "stream",
          "text": [
            "   laufkont  laufzeit  moral  verw  ...  beruf  pers  telef  gastarb\n",
            "0         1        18      4     2  ...      3     2      1        2\n",
            "1         1         9      4     0  ...      3     1      1        2\n",
            "2         2        12      2     9  ...      2     2      1        2\n",
            "3         1        12      4     0  ...      2     1      1        1\n",
            "4         1        12      4     0  ...      2     2      1        1\n",
            "\n",
            "[5 rows x 20 columns]\n"
          ],
          "name": "stdout"
        }
      ]
    },
    {
      "cell_type": "code",
      "metadata": {
        "id": "UfJUSDXvKGwV"
      },
      "source": [
        "hpt = {\"init\":\"random\", \"algorithm\":\"full\"}"
      ],
      "execution_count": null,
      "outputs": []
    },
    {
      "cell_type": "code",
      "metadata": {
        "id": "BiErXKzmMEy_",
        "colab": {
          "base_uri": "https://localhost:8080/"
        },
        "outputId": "0498ad27-8cd3-4a0b-a1e5-6726cf4b49a2"
      },
      "source": [
        "hpt = {\"init\":\"random\", \"algorithm\":\"full\"}\n",
        "for i in range (2,15):\n",
        "  kmeans=KMeans(n_clusters=i,**hpt)\n",
        "  kmeans.fit(X_train)\n",
        "  score=silhouette_score(X_train,kmeans.labels_)\n",
        "  print('k=',i,'silhouette score is',score)"
      ],
      "execution_count": null,
      "outputs": [
        {
          "output_type": "stream",
          "text": [
            "k= 2 silhouette score is 0.7216367721912854\n",
            "k= 3 silhouette score is 0.6475684539923428\n",
            "k= 4 silhouette score is 0.6117259380414384\n",
            "k= 5 silhouette score is 0.5776798542438559\n",
            "k= 6 silhouette score is 0.5764133981584135\n",
            "k= 7 silhouette score is 0.5680435284455725\n",
            "k= 8 silhouette score is 0.5347295412472617\n",
            "k= 9 silhouette score is 0.5508563032237214\n",
            "k= 10 silhouette score is 0.5703859485779206\n",
            "k= 11 silhouette score is 0.5542838332153113\n",
            "k= 12 silhouette score is 0.5574628383694804\n",
            "k= 13 silhouette score is 0.5340016061995521\n",
            "k= 14 silhouette score is 0.5653531703957387\n"
          ],
          "name": "stdout"
        }
      ]
    },
    {
      "cell_type": "code",
      "metadata": {
        "id": "xCrRXwhXSWdo",
        "colab": {
          "base_uri": "https://localhost:8080/"
        },
        "outputId": "b6182ada-a6fc-441c-9e73-085154472aa7"
      },
      "source": [
        "#K-Means Clustering ========================================================================\n",
        "\n",
        "\n",
        "kmeans = KMeans(n_clusters=2,**hpt)\n",
        "kmeans.fit(X_train)\n",
        "kmeans.labels_\n",
        "\n",
        "#Add Cluster Number to each datapoint + save file\n",
        "df_kmeans= X_train\n",
        "kmeans_predict_train=kmeans.predict(df_kmeans)\n",
        "df_kmeans['Cluster Number']=kmeans_predict_train\n",
        "print(df_kmeans.shape)\n",
        "#df_kmeans.head()\n",
        "#df_kmeans.dtypes\n",
        "df_kmeans= pd.concat([df_kmeans, y_train],axis=1)\n",
        "\n",
        "export_csv = df_kmeans.to_csv(r'/gdrive/My Drive/ASU_MSBA/CIS_508/Assignment 5/2/kmeans_SouthGermanCredit.csv')"
      ],
      "execution_count": null,
      "outputs": [
        {
          "output_type": "stream",
          "text": [
            "(1000, 21)\n"
          ],
          "name": "stdout"
        }
      ]
    },
    {
      "cell_type": "code",
      "metadata": {
        "id": "qbSqzw-MONLc",
        "colab": {
          "base_uri": "https://localhost:8080/"
        },
        "outputId": "4843eb0c-cf90-4e85-fe4e-3a6e759dc72f"
      },
      "source": [
        "# use target cluster number\n",
        "data2=df_kmeans.loc[:,[\"kredit\", \"Cluster Number\"]]\n",
        "NG=data2.pivot_table(index='Cluster Number', columns= 'kredit', aggfunc=len)\n",
        "NG['Total']= NG[0]+NG[1]\n",
        "NG['Bad Credit%'] =(NG[0]/NG.Total)*100\n",
        "NG['Good Credit %']= (NG[1]/NG.Total)*100\n",
        "print(NG)"
      ],
      "execution_count": null,
      "outputs": [
        {
          "output_type": "stream",
          "text": [
            "kredit            0    1  Total  Bad Credit%  Good Credit %\n",
            "Cluster Number                                             \n",
            "0               228  599    827    27.569528      72.430472\n",
            "1                72  101    173    41.618497      58.381503\n"
          ],
          "name": "stdout"
        }
      ]
    },
    {
      "cell_type": "code",
      "metadata": {
        "id": "U6l230gWOpRf",
        "colab": {
          "base_uri": "https://localhost:8080/"
        },
        "outputId": "1190d001-ca55-42b7-e796-21c44125f2ac"
      },
      "source": [
        "# Mapping clusters\n",
        "y_pred = 1 - kmeans_predict_train\n",
        "# accuracy score\n",
        "accuracy_score(y_train,y_pred)"
      ],
      "execution_count": null,
      "outputs": [
        {
          "output_type": "execute_result",
          "data": {
            "text/plain": [
              "0.671"
            ]
          },
          "metadata": {
            "tags": []
          },
          "execution_count": 86
        }
      ]
    },
    {
      "cell_type": "code",
      "metadata": {
        "id": "u-P9APmFjEWV",
        "colab": {
          "base_uri": "https://localhost:8080/",
          "height": 126
        },
        "outputId": "c5d10734-edf2-476e-d545-2e1bd959a715"
      },
      "source": [
        "centroids = kmeans.cluster_centers_\n",
        "X_train1 = trainData.drop([\"kredit\"], axis=1)\n",
        "df_centroids = pd.DataFrame(centroids, columns=X_train1.columns)\n",
        "df_centroids.head()"
      ],
      "execution_count": null,
      "outputs": [
        {
          "output_type": "execute_result",
          "data": {
            "text/html": [
              "<div>\n",
              "<style scoped>\n",
              "    .dataframe tbody tr th:only-of-type {\n",
              "        vertical-align: middle;\n",
              "    }\n",
              "\n",
              "    .dataframe tbody tr th {\n",
              "        vertical-align: top;\n",
              "    }\n",
              "\n",
              "    .dataframe thead th {\n",
              "        text-align: right;\n",
              "    }\n",
              "</style>\n",
              "<table border=\"1\" class=\"dataframe\">\n",
              "  <thead>\n",
              "    <tr style=\"text-align: right;\">\n",
              "      <th></th>\n",
              "      <th>laufkont</th>\n",
              "      <th>laufzeit</th>\n",
              "      <th>moral</th>\n",
              "      <th>verw</th>\n",
              "      <th>hoehe</th>\n",
              "      <th>sparkont</th>\n",
              "      <th>beszeit</th>\n",
              "      <th>rate</th>\n",
              "      <th>famges</th>\n",
              "      <th>buerge</th>\n",
              "      <th>wohnzeit</th>\n",
              "      <th>verm</th>\n",
              "      <th>alter</th>\n",
              "      <th>weitkred</th>\n",
              "      <th>wohn</th>\n",
              "      <th>bishkred</th>\n",
              "      <th>beruf</th>\n",
              "      <th>pers</th>\n",
              "      <th>telef</th>\n",
              "      <th>gastarb</th>\n",
              "    </tr>\n",
              "  </thead>\n",
              "  <tbody>\n",
              "    <tr>\n",
              "      <th>0</th>\n",
              "      <td>2.596131</td>\n",
              "      <td>17.970979</td>\n",
              "      <td>2.551391</td>\n",
              "      <td>2.766626</td>\n",
              "      <td>2193.293833</td>\n",
              "      <td>2.049577</td>\n",
              "      <td>3.380895</td>\n",
              "      <td>3.074970</td>\n",
              "      <td>2.677146</td>\n",
              "      <td>1.151149</td>\n",
              "      <td>2.835550</td>\n",
              "      <td>2.229746</td>\n",
              "      <td>35.287787</td>\n",
              "      <td>2.694075</td>\n",
              "      <td>1.896010</td>\n",
              "      <td>1.395405</td>\n",
              "      <td>2.835550</td>\n",
              "      <td>1.847642</td>\n",
              "      <td>1.354293</td>\n",
              "      <td>1.960097</td>\n",
              "    </tr>\n",
              "    <tr>\n",
              "      <th>1</th>\n",
              "      <td>2.485549</td>\n",
              "      <td>34.919075</td>\n",
              "      <td>2.514451</td>\n",
              "      <td>3.121387</td>\n",
              "      <td>8424.242775</td>\n",
              "      <td>2.369942</td>\n",
              "      <td>3.398844</td>\n",
              "      <td>2.485549</td>\n",
              "      <td>2.705202</td>\n",
              "      <td>1.115607</td>\n",
              "      <td>2.890173</td>\n",
              "      <td>2.971098</td>\n",
              "      <td>36.757225</td>\n",
              "      <td>2.583815</td>\n",
              "      <td>2.080925</td>\n",
              "      <td>1.462428</td>\n",
              "      <td>3.231214</td>\n",
              "      <td>1.832370</td>\n",
              "      <td>1.641618</td>\n",
              "      <td>1.976879</td>\n",
              "    </tr>\n",
              "  </tbody>\n",
              "</table>\n",
              "</div>"
            ],
            "text/plain": [
              "   laufkont   laufzeit     moral  ...      pers     telef   gastarb\n",
              "0  2.596131  17.970979  2.551391  ...  1.847642  1.354293  1.960097\n",
              "1  2.485549  34.919075  2.514451  ...  1.832370  1.641618  1.976879\n",
              "\n",
              "[2 rows x 20 columns]"
            ]
          },
          "metadata": {
            "tags": []
          },
          "execution_count": 87
        }
      ]
    }
  ]
}